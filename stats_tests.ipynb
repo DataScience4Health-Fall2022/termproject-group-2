{
  "nbformat": 4,
  "nbformat_minor": 0,
  "metadata": {
    "colab": {
      "provenance": [],
      "collapsed_sections": []
    },
    "kernelspec": {
      "name": "python3",
      "display_name": "Python 3"
    },
    "language_info": {
      "name": "python"
    }
  },
  "cells": [
    {
      "cell_type": "code",
      "source": [
        "!pip install pingouin"
      ],
      "metadata": {
        "id": "gAkvsqzQzn7k"
      },
      "execution_count": null,
      "outputs": []
    },
    {
      "cell_type": "code",
      "execution_count": 2,
      "metadata": {
        "id": "ofcJDVC6smHT"
      },
      "outputs": [],
      "source": [
        "import numpy as np\n",
        "import pandas as pd\n",
        "import matplotlib.pyplot as plt\n",
        "import matplotlib.dates as mdates\n",
        "from datetime import datetime, timedelta\n",
        "import locale\n",
        "from scipy import stats\n",
        "import pingouin as pg\n",
        "\n",
        "import os\n",
        "import time"
      ]
    },
    {
      "cell_type": "code",
      "source": [
        "# Clone github repo containing the data as csv file\n",
        "! rm -rf covid_data\n",
        "! git clone https://github.com/PatrickNiccolai2/covid_data"
      ],
      "metadata": {
        "colab": {
          "base_uri": "https://localhost:8080/"
        },
        "id": "FlCpgbvAsqc7",
        "outputId": "d46ee703-5dc3-4231-8c92-480f7b409d75"
      },
      "execution_count": 3,
      "outputs": [
        {
          "output_type": "stream",
          "name": "stdout",
          "text": [
            "Cloning into 'covid_data'...\n",
            "remote: Enumerating objects: 2040, done.\u001b[K\n",
            "remote: Counting objects: 100% (92/92), done.\u001b[K\n",
            "remote: Compressing objects: 100% (67/67), done.\u001b[K\n",
            "remote: Total 2040 (delta 24), reused 90 (delta 22), pack-reused 1948\u001b[K\n",
            "Receiving objects: 100% (2040/2040), 334.22 MiB | 35.66 MiB/s, done.\n",
            "Resolving deltas: 100% (95/95), done.\n"
          ]
        }
      ]
    },
    {
      "cell_type": "code",
      "source": [
        "# Download the tweets with sentiment data\n",
        "!unzip /content/covid_data/tweets_with_lang -d /content/covid_data/unzip_tweets_with_lang"
      ],
      "metadata": {
        "id": "pyoqKseOswBJ"
      },
      "execution_count": null,
      "outputs": []
    },
    {
      "cell_type": "code",
      "source": [
        "# Read all of the tweets + other data into an array\n",
        "all_files_text = []\n",
        "\n",
        "# Iterate through folder we just unzipped\n",
        "for filename in os.listdir(\"/content/covid_data/unzip_tweets_with_lang/tweets_with_lang\"):\n",
        "  if(filename[0] == \"l\"):\n",
        "    # Open each file and read it\n",
        "    file_path = \"/content/covid_data/unzip_tweets_with_lang/tweets_with_lang/\" + filename\n",
        "    file = open(file_path, \"r\")\n",
        "    lines = file.read()\n",
        "\n",
        "    # Split the file into different parts\n",
        "    lines_arr = lines.split(\"\\n\\n\")\n",
        "    lang = lines_arr[-1]\n",
        "    sent = lines_arr[-2]\n",
        "    id = lines_arr[-3]\n",
        "    place = lines_arr[-5]\n",
        "    coords = lines_arr[-5]\n",
        "    time = lines_arr[-6]\n",
        "\n",
        "    tweet_text = \"\"\n",
        "    for i in range(7, len(lines_arr) + 1):\n",
        "      tweet_text = tweet_text + lines_arr[-i]\n",
        "\n",
        "    # Search the tweet text for a manufacturer, if one is mentioned\n",
        "    if(\"johnson\" not in tweet_text.lower()):\n",
        "      man = \"no_man\"\n",
        "      if(\"sputnik\" in tweet_text.lower()):\n",
        "        man = \"sputnik\"\n",
        "      if(\"sinopharm\" in tweet_text.lower() or \"sinovac\" in tweet_text.lower()):\n",
        "        man = \"sino\"\n",
        "      if(\"moderna\" in tweet_text.lower() or \"spikevax\" in tweet_text.lower()):\n",
        "        man = \"moderna\"\n",
        "      if(\"pfizer\" in tweet_text.lower() or \"biontech\" in tweet_text.lower() or \"comirnaty\" in tweet_text.lower()):\n",
        "        man = \"pfizer\"\n",
        "      if(\"janssen\" in tweet_text.lower()):\n",
        "        man = \"janssen\"\n",
        "      if(\"astrazeneca\" in tweet_text.lower() or \"vaxzevria\" in tweet_text.lower()):\n",
        "        man = \"astra\"\n",
        "        \n",
        "      # Add all the info from the file to all_files_text\n",
        "      full_tweet = [tweet_text, time, coords, place, id, man, sent, lang]\n",
        "      all_files_text.append(full_tweet)\n",
        "    file.close()\n"
      ],
      "metadata": {
        "id": "IXaHVvTss8zM"
      },
      "execution_count": 5,
      "outputs": []
    },
    {
      "cell_type": "code",
      "source": [
        "# Create a dataframe with all of the data\n",
        "all_tweets_df = pd.DataFrame(all_files_text, columns=[\"tweet_text\", \"time\", \"coords\", \"place\", \"tweet_id\", \"man\", \"sentiment\", \"language\"])\n",
        "all_tweets_df = all_tweets_df.drop_duplicates(subset='tweet_id', keep=\"first\")\n",
        "all_tweets_df = all_tweets_df.loc[all_tweets_df[\"language\"] == \"en\"]"
      ],
      "metadata": {
        "id": "YelxYRvptWoR"
      },
      "execution_count": 6,
      "outputs": []
    },
    {
      "cell_type": "code",
      "source": [
        "# Convert strings to datetime so they can be used\n",
        "def str_to_datetime(in_str):\n",
        "  date = in_str.split(\" \")[0]\n",
        "  out_datetime = datetime.strptime(date,\"%Y-%m-%d\")\n",
        "  return out_datetime\n",
        "\n",
        "all_tweets_df[\"datetime\"] = all_tweets_df[\"time\"].apply(str_to_datetime)"
      ],
      "metadata": {
        "id": "O7e2alV_tZie"
      },
      "execution_count": 7,
      "outputs": []
    },
    {
      "cell_type": "code",
      "source": [
        "# The sentiment is an array containing 3 values, convert it to one value\n",
        "def sent_arr_to_val(sent_str):\n",
        "  sent_str = sent_str[2:-2]\n",
        "  sent_arr = sent_str.split()\n",
        "    # We define the sentiment value as probability of positive sentiment minus probability of negative sentiment\n",
        "  return float(sent_arr[2]) - float(sent_arr[0])\n",
        "\n",
        "all_tweets_df[\"sent_avg\"] = all_tweets_df[\"sentiment\"].apply(sent_arr_to_val)"
      ],
      "metadata": {
        "id": "CPYDOj5mtd5J"
      },
      "execution_count": 8,
      "outputs": []
    },
    {
      "cell_type": "code",
      "source": [
        "# Create dataframe for each brand\n",
        "moderna_df = all_tweets_df[all_tweets_df[\"man\"] == \"moderna\"]\n",
        "pfizer_df = all_tweets_df[all_tweets_df[\"man\"] == \"pfizer\"]\n",
        "astra_df = all_tweets_df[all_tweets_df[\"man\"] == \"astra\"]"
      ],
      "metadata": {
        "id": "rU2VqxBotfpu"
      },
      "execution_count": 9,
      "outputs": []
    },
    {
      "cell_type": "code",
      "source": [
        "# This cell combines the dataframes by data and gets the average sentiment for that date\n",
        "aggregator = {'tweet_text' : 'count', 'time' : 'count', 'coords': 'count', \n",
        "              'tweet_id' : 'count', 'sentiment': 'count', 'sent_avg': 'mean'}\n",
        "\n",
        "moderna_per_day = moderna_df.groupby([\"datetime\"]).agg(aggregator)\n",
        "moderna_per_day = moderna_per_day.sort_index()\n",
        "moderna_per_day.reset_index(inplace=True)\n",
        "moderna_per_day = moderna_per_day.rename(columns = {'index':'datetime'})\n",
        "\n",
        "pfizer_per_day = pfizer_df.groupby([\"datetime\"]).agg(aggregator)\n",
        "pfizer_per_day = pfizer_per_day.sort_index()\n",
        "pfizer_per_day.reset_index(inplace=True)\n",
        "pfizer_per_day = pfizer_per_day.rename(columns = {'index':'datetime'})\n",
        "\n",
        "astra_per_day = astra_df.groupby([\"datetime\"]).agg(aggregator)\n",
        "astra_per_day = astra_per_day.sort_index()\n",
        "astra_per_day.reset_index(inplace=True)\n",
        "astra_per_day = astra_per_day.rename(columns = {'index':'datetime'})"
      ],
      "metadata": {
        "id": "VIkzJRmwtt9b"
      },
      "execution_count": 10,
      "outputs": []
    },
    {
      "cell_type": "code",
      "source": [
        "# Run kruskal-wallis test comparing the daily avg sentiment across the brands\n",
        "stats.kruskal(moderna_per_day[\"sent_avg\"], pfizer_per_day[\"sent_avg\"], astra_per_day[\"sent_avg\"])"
      ],
      "metadata": {
        "colab": {
          "base_uri": "https://localhost:8080/"
        },
        "id": "HPozA5kJt-d4",
        "outputId": "b7101afe-554f-40f9-e0eb-69c755838c5d"
      },
      "execution_count": 11,
      "outputs": [
        {
          "output_type": "execute_result",
          "data": {
            "text/plain": [
              "KruskalResult(statistic=12.639948728118789, pvalue=0.001799989650066879)"
            ]
          },
          "metadata": {},
          "execution_count": 11
        }
      ]
    },
    {
      "cell_type": "code",
      "source": [
        "stats.chi2.ppf(1-0.05, 2)"
      ],
      "metadata": {
        "colab": {
          "base_uri": "https://localhost:8080/"
        },
        "id": "JN3PX5hGwq3D",
        "outputId": "82203afb-58f3-49d4-e794-c7e58c815c41"
      },
      "execution_count": 12,
      "outputs": [
        {
          "output_type": "execute_result",
          "data": {
            "text/plain": [
              "5.991464547107979"
            ]
          },
          "metadata": {},
          "execution_count": 12
        }
      ]
    },
    {
      "cell_type": "code",
      "source": [
        "# So, the chi sqaured critical value is 5.99. This is less that the kruskal result \n",
        "# of 12.6, meaning that we can conclude that the distributions of moderna, pfizer,\n",
        "# and astrazeneca are different"
      ],
      "metadata": {
        "id": "Eg7NhmEXuVXE"
      },
      "execution_count": 13,
      "outputs": []
    },
    {
      "cell_type": "code",
      "source": [
        "def startMonth(date):\n",
        "  month = date.month\n",
        "  year = date.year\n",
        "  comp_date = str(year) + \"-\" + str(month) + \"-1\"\n",
        "  return datetime.strptime(comp_date, \"%Y-%m-%d\")\n",
        "\n",
        "moderna_per_day[\"month\"] = moderna_per_day[\"datetime\"].apply(startMonth)\n",
        "pfizer_per_day[\"month\"] = pfizer_per_day[\"datetime\"].apply(startMonth)\n",
        "astra_per_day[\"month\"] = astra_per_day[\"datetime\"].apply(startMonth)\n"
      ],
      "metadata": {
        "id": "mZEZAuNRyCY5"
      },
      "execution_count": 14,
      "outputs": []
    },
    {
      "cell_type": "code",
      "source": [
        "# Function to get data by month for a given dataframe\n",
        "def get_data_for_months(dataframe):\n",
        "  months_dict = {}\n",
        "  months = dataframe.month.unique()\n",
        "  for month in months:\n",
        "    years = month.astype('datetime64[Y]').astype(int) + 1970\n",
        "    months = month.astype('datetime64[M]').astype(int) % 12 + 1\n",
        "    # We only look at certain months to compare to the other paper\n",
        "    if((months == 12 and years == 2020) or (months == 1 and years == 2021) or (months == 2 and years == 2021) or (months == 3 and years == 2021)):\n",
        "      months_dict[month] = dataframe.loc[dataframe[\"month\"] == month][\"sent_val\"]\n",
        "\n",
        "  data_arr = []\n",
        "  months_arr = []\n",
        "  for month in sorted(months_dict.keys()):\n",
        "    years = month.astype('datetime64[Y]').astype(int) + 1970\n",
        "    months = month.astype('datetime64[M]').astype(int) % 12 + 1\n",
        "    if((months == 12 and years == 2020) or (months == 1 and years == 2021) or (months == 2 and years == 2021) or (months == 3 and years == 2021)):\n",
        "      data_arr.append(months_dict[month])\n",
        "      months_arr.append(str(month)[0:7])\n",
        "\n",
        "  return data_arr, months_arr"
      ],
      "metadata": {
        "id": "6aOSRZc0y35Z"
      },
      "execution_count": 15,
      "outputs": []
    },
    {
      "cell_type": "code",
      "source": [
        "# Get the avg daily sentiment for each month, for the brands\n",
        "moderna_df = moderna_df.rename(columns={\"sent_avg\": \"sent_val\"})\n",
        "moderna_df[\"month\"] = moderna_df[\"datetime\"].apply(startMonth)\n",
        "\n",
        "moderna_data_arr, moderna_months_arr = get_data_for_months(moderna_df)\n",
        "\n",
        "pfizer_df = pfizer_df.rename(columns={\"sent_avg\": \"sent_val\"})\n",
        "pfizer_df[\"month\"] = pfizer_df[\"datetime\"].apply(startMonth)\n",
        "\n",
        "pfizer_data_arr, pfizer_months_arr = get_data_for_months(pfizer_df)\n",
        "\n",
        "astra_df = astra_df.rename(columns={\"sent_avg\": \"sent_val\"})\n",
        "astra_df[\"month\"] = astra_df[\"datetime\"].apply(startMonth)\n",
        "\n",
        "astra_data_arr, astra_months_arr = get_data_for_months(astra_df)"
      ],
      "metadata": {
        "id": "o7GmBMMdzrFv"
      },
      "execution_count": 16,
      "outputs": []
    },
    {
      "cell_type": "code",
      "source": [
        "stats.chi2.ppf(1-0.05, 3)"
      ],
      "metadata": {
        "colab": {
          "base_uri": "https://localhost:8080/"
        },
        "id": "I7Kj5e5Qz1Av",
        "outputId": "040e4aef-2162-489e-ad93-9e9b4159d013"
      },
      "execution_count": 17,
      "outputs": [
        {
          "output_type": "execute_result",
          "data": {
            "text/plain": [
              "7.814727903251179"
            ]
          },
          "metadata": {},
          "execution_count": 17
        }
      ]
    },
    {
      "cell_type": "code",
      "source": [
        "# Do KW tests by month for each brand"
      ],
      "metadata": {
        "id": "yLx9Y9IIZznY"
      },
      "execution_count": 18,
      "outputs": []
    },
    {
      "cell_type": "code",
      "source": [
        "stats.kruskal(moderna_data_arr[0],moderna_data_arr[1],moderna_data_arr[2],moderna_data_arr[3])"
      ],
      "metadata": {
        "colab": {
          "base_uri": "https://localhost:8080/"
        },
        "id": "8gIn2w0p0aP2",
        "outputId": "ae2ae0fa-8cc8-4132-bf39-4d05fda201c9"
      },
      "execution_count": 19,
      "outputs": [
        {
          "output_type": "execute_result",
          "data": {
            "text/plain": [
              "KruskalResult(statistic=2.953228993243689, pvalue=0.3988927021162145)"
            ]
          },
          "metadata": {},
          "execution_count": 19
        }
      ]
    },
    {
      "cell_type": "code",
      "source": [
        "stats.chi2.ppf(1-0.3988927021162145, 3)"
      ],
      "metadata": {
        "colab": {
          "base_uri": "https://localhost:8080/"
        },
        "id": "I-0GRHIhrfSd",
        "outputId": "4506186f-047d-4504-963a-ddc0d00518c4"
      },
      "execution_count": 20,
      "outputs": [
        {
          "output_type": "execute_result",
          "data": {
            "text/plain": [
              "2.953228993243689"
            ]
          },
          "metadata": {},
          "execution_count": 20
        }
      ]
    },
    {
      "cell_type": "code",
      "source": [
        "# Ok, so the p-value returned from kruskal gives the p for the chi2 value where kruskal=chi2"
      ],
      "metadata": {
        "id": "CFPVKnX3rngn"
      },
      "execution_count": 21,
      "outputs": []
    },
    {
      "cell_type": "code",
      "source": [
        "stats.kruskal(pfizer_data_arr[0],pfizer_data_arr[1],pfizer_data_arr[2],pfizer_data_arr[3])"
      ],
      "metadata": {
        "colab": {
          "base_uri": "https://localhost:8080/"
        },
        "id": "tFjgYG3K0icW",
        "outputId": "09661053-fe4c-4495-937b-b4a321e0a9c4"
      },
      "execution_count": 22,
      "outputs": [
        {
          "output_type": "execute_result",
          "data": {
            "text/plain": [
              "KruskalResult(statistic=12.966827460574418, pvalue=0.004708894892141813)"
            ]
          },
          "metadata": {},
          "execution_count": 22
        }
      ]
    },
    {
      "cell_type": "code",
      "source": [
        "stats.kruskal(astra_data_arr[0],astra_data_arr[1],astra_data_arr[2],astra_data_arr[3])"
      ],
      "metadata": {
        "colab": {
          "base_uri": "https://localhost:8080/"
        },
        "id": "iC8eItKe1V9A",
        "outputId": "6aec61c5-a1ed-4d8b-b81d-0146409875e8"
      },
      "execution_count": 23,
      "outputs": [
        {
          "output_type": "execute_result",
          "data": {
            "text/plain": [
              "KruskalResult(statistic=14.325531121846787, pvalue=0.00249392695451474)"
            ]
          },
          "metadata": {},
          "execution_count": 23
        }
      ]
    },
    {
      "cell_type": "code",
      "source": [
        "# Again, we compare the kruskal value to the chi squared value\n",
        "# Interstingly, we can conclude that for pfizer and astrazeneca,\n",
        "# different months have different distributions of sentiment, \n",
        "# however for moderna this is not the case"
      ],
      "metadata": {
        "id": "NSSy-YMm1e-c"
      },
      "execution_count": 24,
      "outputs": []
    },
    {
      "cell_type": "code",
      "source": [
        "sputnik_df = all_tweets_df[all_tweets_df[\"man\"] == \"sputnik\"]\n",
        "sino_df = all_tweets_df[all_tweets_df[\"man\"] == \"sino\"]\n",
        "\n",
        "sputnik_df = sputnik_df.rename(columns={\"sent_avg\": \"sent_val\"})\n",
        "sputnik_df[\"month\"] = sputnik_df[\"datetime\"].apply(startMonth)\n",
        "\n",
        "sputnik_data_arr, sputnik_months_arr = get_data_for_months(sputnik_df)\n",
        "\n",
        "sino_df = sino_df.rename(columns={\"sent_avg\": \"sent_val\"})\n",
        "sino_df[\"month\"] = sino_df[\"datetime\"].apply(startMonth)\n",
        "\n",
        "sino_data_arr, sino_months_arr = get_data_for_months(sino_df)"
      ],
      "metadata": {
        "id": "9mNCmmRo_6w1"
      },
      "execution_count": 25,
      "outputs": []
    },
    {
      "cell_type": "code",
      "source": [
        "stats.kruskal(sputnik_data_arr[0],sputnik_data_arr[1],sputnik_data_arr[2],sputnik_data_arr[3])"
      ],
      "metadata": {
        "colab": {
          "base_uri": "https://localhost:8080/"
        },
        "id": "sBIQwHebAOzS",
        "outputId": "2a37b8fa-7842-4548-e6c9-d8b276250bbd"
      },
      "execution_count": 26,
      "outputs": [
        {
          "output_type": "execute_result",
          "data": {
            "text/plain": [
              "KruskalResult(statistic=7.107958499015075, pvalue=0.0685352238431948)"
            ]
          },
          "metadata": {},
          "execution_count": 26
        }
      ]
    },
    {
      "cell_type": "code",
      "source": [
        "stats.kruskal(sino_data_arr[0],sino_data_arr[1],sino_data_arr[2],sino_data_arr[3])"
      ],
      "metadata": {
        "colab": {
          "base_uri": "https://localhost:8080/"
        },
        "id": "UCyYsQUZASs_",
        "outputId": "72ca788e-a1ae-4668-fbe2-2dea6b43b518"
      },
      "execution_count": 27,
      "outputs": [
        {
          "output_type": "execute_result",
          "data": {
            "text/plain": [
              "KruskalResult(statistic=4.137111459679279, pvalue=0.24703412762126067)"
            ]
          },
          "metadata": {},
          "execution_count": 27
        }
      ]
    },
    {
      "cell_type": "markdown",
      "source": [
        "# Pairwise Kruskal-Wallis"
      ],
      "metadata": {
        "id": "PZEZZNkkE8Zo"
      }
    },
    {
      "cell_type": "code",
      "source": [
        "# Do pairwise KW tests by month for each brand\n",
        "# I think we don't need this anymore because we use Games-Howell test below"
      ],
      "metadata": {
        "id": "lQSu0qYVZ6_e"
      },
      "execution_count": 28,
      "outputs": []
    },
    {
      "cell_type": "code",
      "source": [
        "print(\"Moderna\")\n",
        "print(\"December vs January\")\n",
        "print(stats.kruskal(moderna_data_arr[0],moderna_data_arr[1]))\n",
        "print(\"December vs February\")\n",
        "print(stats.kruskal(moderna_data_arr[0],moderna_data_arr[2]))\n",
        "print(\"December vs March\")\n",
        "print(stats.kruskal(moderna_data_arr[0],moderna_data_arr[3]))\n",
        "print(\"January vs February\")\n",
        "print(stats.kruskal(moderna_data_arr[1],moderna_data_arr[2]))\n",
        "print(\"January vs March\")\n",
        "print(stats.kruskal(moderna_data_arr[1],moderna_data_arr[3]))\n",
        "print(\"February vs March\")\n",
        "print(stats.kruskal(moderna_data_arr[2],moderna_data_arr[3]))"
      ],
      "metadata": {
        "id": "bCBkZ916AZ7K",
        "colab": {
          "base_uri": "https://localhost:8080/"
        },
        "outputId": "41ee09f2-fcbb-46c0-e8a2-53956debdd97"
      },
      "execution_count": 29,
      "outputs": [
        {
          "output_type": "stream",
          "name": "stdout",
          "text": [
            "Moderna\n",
            "December vs January\n",
            "KruskalResult(statistic=2.685986821244379, pvalue=0.10123449372951232)\n",
            "December vs February\n",
            "KruskalResult(statistic=0.16400946321218926, pvalue=0.6854916106713289)\n",
            "December vs March\n",
            "KruskalResult(statistic=0.4585088760316366, pvalue=0.49832167763511914)\n",
            "January vs February\n",
            "KruskalResult(statistic=0.9969538996701885, pvalue=0.31804869926965307)\n",
            "January vs March\n",
            "KruskalResult(statistic=1.2143355654687866, pvalue=0.27047517096105644)\n",
            "February vs March\n",
            "KruskalResult(statistic=0.000775342816950797, pvalue=0.9777857923539504)\n"
          ]
        }
      ]
    },
    {
      "cell_type": "code",
      "source": [
        "print(\"Pfizer\")\n",
        "print(\"December vs January\")\n",
        "print(stats.kruskal(pfizer_data_arr[0],pfizer_data_arr[1]))\n",
        "print(\"December vs February\")\n",
        "print(stats.kruskal(pfizer_data_arr[0],pfizer_data_arr[2]))\n",
        "print(\"December vs March\")\n",
        "print(stats.kruskal(pfizer_data_arr[0],pfizer_data_arr[3]))\n",
        "print(\"January vs February\")\n",
        "print(stats.kruskal(pfizer_data_arr[1],pfizer_data_arr[2]))\n",
        "print(\"January vs March\")\n",
        "print(stats.kruskal(pfizer_data_arr[1],pfizer_data_arr[3]))\n",
        "print(\"February vs March\")\n",
        "print(stats.kruskal(pfizer_data_arr[2],pfizer_data_arr[3]))"
      ],
      "metadata": {
        "colab": {
          "base_uri": "https://localhost:8080/"
        },
        "id": "_AAvR_jrE118",
        "outputId": "41c2e1ea-9eed-4e43-8f37-d2f45b9da8a3"
      },
      "execution_count": 30,
      "outputs": [
        {
          "output_type": "stream",
          "name": "stdout",
          "text": [
            "Pfizer\n",
            "December vs January\n",
            "KruskalResult(statistic=3.0845194132268787, pvalue=0.07904061175564364)\n",
            "December vs February\n",
            "KruskalResult(statistic=1.7705935031435756, pvalue=0.18330864540701636)\n",
            "December vs March\n",
            "KruskalResult(statistic=5.375358907153374, pvalue=0.020423138667920226)\n",
            "January vs February\n",
            "KruskalResult(statistic=5.759373582652753, pvalue=0.016400918057897052)\n",
            "January vs March\n",
            "KruskalResult(statistic=10.147326345929136, pvalue=0.00144510681125009)\n",
            "February vs March\n",
            "KruskalResult(statistic=0.19089911644802385, pvalue=0.6621693419676211)\n"
          ]
        }
      ]
    },
    {
      "cell_type": "code",
      "source": [
        "print(\"AstraZeneca\")\n",
        "print(\"December vs January\")\n",
        "print(stats.kruskal(astra_data_arr[0],astra_data_arr[1]))\n",
        "print(\"December vs February\")\n",
        "print(stats.kruskal(astra_data_arr[0],astra_data_arr[2]))\n",
        "print(\"December vs March\")\n",
        "print(stats.kruskal(astra_data_arr[0],astra_data_arr[3]))\n",
        "print(\"January vs February\")\n",
        "print(stats.kruskal(astra_data_arr[1],astra_data_arr[2]))\n",
        "print(\"January vs March\")\n",
        "print(stats.kruskal(astra_data_arr[1],astra_data_arr[3]))\n",
        "print(\"February vs March\")\n",
        "print(stats.kruskal(astra_data_arr[2],astra_data_arr[3]))"
      ],
      "metadata": {
        "colab": {
          "base_uri": "https://localhost:8080/"
        },
        "id": "oYu90AYHFom7",
        "outputId": "3b2fcbce-252d-492e-f90f-fe9313e4a587"
      },
      "execution_count": 31,
      "outputs": [
        {
          "output_type": "stream",
          "name": "stdout",
          "text": [
            "AstraZeneca\n",
            "December vs January\n",
            "KruskalResult(statistic=6.371353846079353, pvalue=0.01159770818211136)\n",
            "December vs February\n",
            "KruskalResult(statistic=4.489278203354447, pvalue=0.03410807579714784)\n",
            "December vs March\n",
            "KruskalResult(statistic=12.784274136736956, pvalue=0.00034954536953429573)\n",
            "January vs February\n",
            "KruskalResult(statistic=0.020785471643531287, pvalue=0.8853649079462731)\n",
            "January vs March\n",
            "KruskalResult(statistic=1.9009801118611587, pvalue=0.16796865436133868)\n",
            "February vs March\n",
            "KruskalResult(statistic=1.748404236045532, pvalue=0.18607746793868557)\n"
          ]
        }
      ]
    },
    {
      "cell_type": "code",
      "source": [
        "print(\"Sputnik V\")\n",
        "print(\"December vs January\")\n",
        "print(stats.kruskal(sputnik_data_arr[0],sputnik_data_arr[1]))\n",
        "print(\"December vs February\")\n",
        "print(stats.kruskal(sputnik_data_arr[0],sputnik_data_arr[2]))\n",
        "print(\"December vs March\")\n",
        "print(stats.kruskal(sputnik_data_arr[0],sputnik_data_arr[3]))\n",
        "print(\"January vs February\")\n",
        "print(stats.kruskal(sputnik_data_arr[1],sputnik_data_arr[2]))\n",
        "print(\"January vs March\")\n",
        "print(stats.kruskal(sputnik_data_arr[1],sputnik_data_arr[3]))\n",
        "print(\"February vs March\")\n",
        "print(stats.kruskal(sputnik_data_arr[2],sputnik_data_arr[3]))"
      ],
      "metadata": {
        "colab": {
          "base_uri": "https://localhost:8080/"
        },
        "id": "4cahPe2_F0A8",
        "outputId": "95358e9c-3d48-49df-e30f-ba9e2c57aabf"
      },
      "execution_count": 32,
      "outputs": [
        {
          "output_type": "stream",
          "name": "stdout",
          "text": [
            "Sputnik V\n",
            "December vs January\n",
            "KruskalResult(statistic=3.481578947368412, pvalue=0.0620555024536233)\n",
            "December vs February\n",
            "KruskalResult(statistic=0.0752043834342288, pvalue=0.783904665603639)\n",
            "December vs March\n",
            "KruskalResult(statistic=1.6505263157894632, pvalue=0.19888731184130973)\n",
            "January vs February\n",
            "KruskalResult(statistic=4.894329151213864, pvalue=0.026945040152561488)\n",
            "January vs March\n",
            "KruskalResult(statistic=0.8148496240601446, pvalue=0.36669033117057837)\n",
            "February vs March\n",
            "KruskalResult(statistic=3.1742766913054505, pvalue=0.07480632674058366)\n"
          ]
        }
      ]
    },
    {
      "cell_type": "code",
      "source": [
        "print(\"Sinopharm\")\n",
        "print(\"December vs January\")\n",
        "print(stats.kruskal(sino_data_arr[0],sino_data_arr[1]))\n",
        "print(\"December vs February\")\n",
        "print(stats.kruskal(sino_data_arr[0],sino_data_arr[2]))\n",
        "print(\"December vs March\")\n",
        "print(stats.kruskal(sino_data_arr[0],sino_data_arr[3]))\n",
        "print(\"January vs February\")\n",
        "print(stats.kruskal(sino_data_arr[1],sino_data_arr[2]))\n",
        "print(\"January vs March\")\n",
        "print(stats.kruskal(sino_data_arr[1],sino_data_arr[3]))\n",
        "print(\"February vs March\")\n",
        "print(stats.kruskal(sino_data_arr[2],sino_data_arr[3]))"
      ],
      "metadata": {
        "colab": {
          "base_uri": "https://localhost:8080/"
        },
        "id": "BK06ka2-F9o9",
        "outputId": "9584ffc8-fdf4-4391-de96-1b9ec9bfc9ab"
      },
      "execution_count": 33,
      "outputs": [
        {
          "output_type": "stream",
          "name": "stdout",
          "text": [
            "Sinopharm\n",
            "December vs January\n",
            "KruskalResult(statistic=2.120380434782618, pvalue=0.14535043563843503)\n",
            "December vs February\n",
            "KruskalResult(statistic=0.18530701754386314, pvalue=0.666851591455902)\n",
            "December vs March\n",
            "KruskalResult(statistic=0.3049066516558704, pvalue=0.5808226167842789)\n",
            "January vs February\n",
            "KruskalResult(statistic=1.0998350274067548, pvalue=0.29430231173962673)\n",
            "January vs March\n",
            "KruskalResult(statistic=3.195836947094525, pvalue=0.07382597228409642)\n",
            "February vs March\n",
            "KruskalResult(statistic=0.9570100589387827, pvalue=0.3279413426723332)\n"
          ]
        }
      ]
    },
    {
      "cell_type": "markdown",
      "source": [
        "# Compare the 3 brands by month"
      ],
      "metadata": {
        "id": "TtbH7h4PH-fK"
      }
    },
    {
      "cell_type": "code",
      "source": [
        "# For each month, compare the three brands pairwise\n",
        "# I think we also don't need this because of Games-Howell tests below"
      ],
      "metadata": {
        "id": "SWsQsa73aF5S"
      },
      "execution_count": 34,
      "outputs": []
    },
    {
      "cell_type": "code",
      "source": [
        "print(\"December\")\n",
        "print(\"Moderna vs Pfizer\")\n",
        "print(stats.kruskal(moderna_data_arr[0],pfizer_data_arr[0]))\n",
        "print(\"Moderna vs AstraZeneca\")\n",
        "print(stats.kruskal(moderna_data_arr[0],astra_data_arr[0]))\n",
        "print(\"Pfizer vs AstraZeneca\")\n",
        "print(stats.kruskal(pfizer_data_arr[0],astra_data_arr[0]))"
      ],
      "metadata": {
        "colab": {
          "base_uri": "https://localhost:8080/"
        },
        "id": "rpK4MEykICk1",
        "outputId": "b4734315-553a-4b46-f814-9d9bc8bb3a89"
      },
      "execution_count": 35,
      "outputs": [
        {
          "output_type": "stream",
          "name": "stdout",
          "text": [
            "December\n",
            "Moderna vs Pfizer\n",
            "KruskalResult(statistic=16.04571733551754, pvalue=6.183131767930413e-05)\n",
            "Moderna vs AstraZeneca\n",
            "KruskalResult(statistic=0.06617149304520231, pvalue=0.7969948943403355)\n",
            "Pfizer vs AstraZeneca\n",
            "KruskalResult(statistic=7.6638012934139, pvalue=0.005633967843268963)\n"
          ]
        }
      ]
    },
    {
      "cell_type": "code",
      "source": [
        "print(\"January\")\n",
        "print(\"Moderna vs Pfizer\")\n",
        "print(stats.kruskal(moderna_data_arr[1],pfizer_data_arr[1]))\n",
        "print(\"Moderna vs AstraZeneca\")\n",
        "print(stats.kruskal(moderna_data_arr[1],astra_data_arr[1]))\n",
        "print(\"Pfizer vs AstraZeneca\")\n",
        "print(stats.kruskal(pfizer_data_arr[1],astra_data_arr[1]))"
      ],
      "metadata": {
        "colab": {
          "base_uri": "https://localhost:8080/"
        },
        "id": "uhzIslA6ITle",
        "outputId": "ca5a6a8a-0d24-4d8d-e83e-ff6a093b0d39"
      },
      "execution_count": 36,
      "outputs": [
        {
          "output_type": "stream",
          "name": "stdout",
          "text": [
            "January\n",
            "Moderna vs Pfizer\n",
            "KruskalResult(statistic=5.315620467128346, pvalue=0.02113506611680189)\n",
            "Moderna vs AstraZeneca\n",
            "KruskalResult(statistic=1.866237855564744, pvalue=0.17190658525853525)\n",
            "Pfizer vs AstraZeneca\n",
            "KruskalResult(statistic=1.337904124629431, pvalue=0.24740391847824447)\n"
          ]
        }
      ]
    },
    {
      "cell_type": "code",
      "source": [
        "print(\"February\")\n",
        "print(\"Moderna vs Pfizer\")\n",
        "print(stats.kruskal(moderna_data_arr[2],pfizer_data_arr[2]))\n",
        "print(\"Moderna vs AstraZeneca\")\n",
        "print(stats.kruskal(moderna_data_arr[2],astra_data_arr[2]))\n",
        "print(\"Pfizer vs AstraZeneca\")\n",
        "print(stats.kruskal(pfizer_data_arr[2],astra_data_arr[2]))"
      ],
      "metadata": {
        "colab": {
          "base_uri": "https://localhost:8080/"
        },
        "id": "V5mtr46pIdWj",
        "outputId": "82744bfc-aa32-4ec1-a6bc-f8706df210fc"
      },
      "execution_count": 37,
      "outputs": [
        {
          "output_type": "stream",
          "name": "stdout",
          "text": [
            "February\n",
            "Moderna vs Pfizer\n",
            "KruskalResult(statistic=1.5014964753672757, pvalue=0.22044124825174943)\n",
            "Moderna vs AstraZeneca\n",
            "KruskalResult(statistic=2.4356784456069818, pvalue=0.1186025712089243)\n",
            "Pfizer vs AstraZeneca\n",
            "KruskalResult(statistic=0.44104930572871126, pvalue=0.5066164345322403)\n"
          ]
        }
      ]
    },
    {
      "cell_type": "code",
      "source": [
        "print(\"March\")\n",
        "print(\"Moderna vs Pfizer\")\n",
        "print(stats.kruskal(moderna_data_arr[3],pfizer_data_arr[3]))\n",
        "print(\"Moderna vs AstraZeneca\")\n",
        "print(stats.kruskal(moderna_data_arr[3],astra_data_arr[3]))\n",
        "print(\"Pfizer vs AstraZeneca\")\n",
        "print(stats.kruskal(pfizer_data_arr[3],astra_data_arr[3]))"
      ],
      "metadata": {
        "colab": {
          "base_uri": "https://localhost:8080/"
        },
        "id": "VStuIK11Id1C",
        "outputId": "2875f2f4-dde3-4916-8f81-b1daa177968a"
      },
      "execution_count": 38,
      "outputs": [
        {
          "output_type": "stream",
          "name": "stdout",
          "text": [
            "March\n",
            "Moderna vs Pfizer\n",
            "KruskalResult(statistic=1.481727758841674, pvalue=0.22350439395321178)\n",
            "Moderna vs AstraZeneca\n",
            "KruskalResult(statistic=14.845770960676584, pvalue=0.00011666937159752654)\n",
            "Pfizer vs AstraZeneca\n",
            "KruskalResult(statistic=11.116774101358589, pvalue=0.0008555045322654087)\n"
          ]
        }
      ]
    },
    {
      "cell_type": "markdown",
      "source": [
        "# Games-Howell"
      ],
      "metadata": {
        "id": "JEB2o8BfzyTD"
      }
    },
    {
      "cell_type": "code",
      "source": [
        "print(moderna_data_arr[0])"
      ],
      "metadata": {
        "colab": {
          "base_uri": "https://localhost:8080/"
        },
        "id": "hOHY6KK_zzqW",
        "outputId": "38d33ceb-190d-46a0-c066-07f60050eaf4"
      },
      "execution_count": 39,
      "outputs": [
        {
          "output_type": "stream",
          "name": "stdout",
          "text": [
            "268       0.595511\n",
            "823      -0.804023\n",
            "1451      0.018192\n",
            "2313     -0.028059\n",
            "2462      0.604340\n",
            "            ...   \n",
            "105033    0.227078\n",
            "105817    0.043568\n",
            "106658    0.577966\n",
            "110516    0.178700\n",
            "110833    0.074501\n",
            "Name: sent_val, Length: 134, dtype: float64\n"
          ]
        }
      ]
    },
    {
      "cell_type": "code",
      "source": [
        "# Create a dataframe with all of the data by day, separated by bramd\n",
        "gh_df = pd.DataFrame(all_files_text, columns=[\"tweet_text\", \"time\", \"coords\", \"place\", \"tweet_id\", \"man\", \"sentiment\", \"language\"])\n",
        "gh_df = gh_df.drop_duplicates(subset='tweet_id', keep=\"first\")\n",
        "gh_df = gh_df.loc[gh_df[\"language\"] == \"en\"]\n",
        "gh_df = gh_df.loc[gh_df[\"man\"] != \"no_man\"]\n",
        "gh_df = gh_df.loc[gh_df[\"man\"] != \"janssen\"]\n",
        "\n",
        "gh_df[\"datetime\"] = gh_df[\"time\"].apply(str_to_datetime)\n",
        "gh_df[\"sent_avg\"] = gh_df[\"sentiment\"].apply(sent_arr_to_val)\n",
        "\n",
        "aggregator = {'sent_avg': 'mean'}\n",
        "\n",
        "gh_per_day_df = gh_df.groupby([\"datetime\", \"man\"]).agg(aggregator)\n",
        "\n",
        "gh_per_day_df = gh_per_day_df.sort_index()\n",
        "gh_per_day_df.reset_index(inplace=True)\n"
      ],
      "metadata": {
        "id": "HJwDMCk_0FS1"
      },
      "execution_count": 40,
      "outputs": []
    },
    {
      "cell_type": "code",
      "source": [
        "print(gh_per_day_df)"
      ],
      "metadata": {
        "colab": {
          "base_uri": "https://localhost:8080/"
        },
        "id": "-9ZoazG14uqT",
        "outputId": "7535a97c-98c3-43cf-8a49-2ca0a07d0d18"
      },
      "execution_count": 41,
      "outputs": [
        {
          "output_type": "stream",
          "name": "stdout",
          "text": [
            "       datetime      man  sent_avg\n",
            "0    2020-01-25  sputnik  0.451401\n",
            "1    2020-02-26  moderna  0.335324\n",
            "2    2020-02-27  moderna  0.168734\n",
            "3    2020-02-29  moderna -0.010340\n",
            "4    2020-03-07  sputnik -0.969906\n",
            "...         ...      ...       ...\n",
            "1311 2021-09-08   pfizer -0.032835\n",
            "1312 2021-09-08     sino  0.060707\n",
            "1313 2021-09-09    astra -0.042038\n",
            "1314 2021-09-09  moderna  0.002224\n",
            "1315 2021-09-09   pfizer -0.266878\n",
            "\n",
            "[1316 rows x 3 columns]\n"
          ]
        }
      ]
    },
    {
      "cell_type": "code",
      "source": [
        "# This tests the overall distributions for each brand\n",
        "full_range_all_results_df = pg.pairwise_gameshowell(data=gh_per_day_df, dv=\"sent_avg\", between=\"man\").round(3)\n",
        "print(full_range_all_results_df)"
      ],
      "metadata": {
        "colab": {
          "base_uri": "https://localhost:8080/"
        },
        "id": "yfoQZUCT4j6-",
        "outputId": "fe9f8576-a6bc-418d-d6ac-486004966a2b"
      },
      "execution_count": 59,
      "outputs": [
        {
          "output_type": "stream",
          "name": "stdout",
          "text": [
            "         A        B  mean(A)  mean(B)   diff     se      T       df   pval  \\\n",
            "0    astra  moderna    0.032    0.110 -0.078  0.032 -2.445  636.881  0.105   \n",
            "1    astra   pfizer    0.032    0.018  0.014  0.025  0.561  564.234  0.980   \n",
            "2    astra     sino    0.032   -0.003  0.035  0.044  0.796  246.684  0.932   \n",
            "3    astra  sputnik    0.032   -0.104  0.136  0.045  3.008  225.339  0.024   \n",
            "4  moderna   pfizer    0.110    0.018  0.092  0.028  3.275  557.680  0.010   \n",
            "5  moderna     sino    0.110   -0.003  0.113  0.046  2.472  278.721  0.100   \n",
            "6  moderna  sputnik    0.110   -0.104  0.214  0.047  4.566  253.779  0.000   \n",
            "7   pfizer     sino    0.018   -0.003  0.021  0.041  0.503  199.599  0.987   \n",
            "8   pfizer  sputnik    0.018   -0.104  0.122  0.043  2.854  183.822  0.038   \n",
            "9     sino  sputnik   -0.003   -0.104  0.101  0.056  1.811  298.552  0.369   \n",
            "\n",
            "   hedges  \n",
            "0  -0.193  \n",
            "1   0.043  \n",
            "2   0.078  \n",
            "3   0.302  \n",
            "4   0.246  \n",
            "5   0.239  \n",
            "6   0.451  \n",
            "7   0.048  \n",
            "8   0.279  \n",
            "9   0.208  \n"
          ]
        }
      ]
    },
    {
      "cell_type": "code",
      "source": [
        "print(moderna_df.head(10))"
      ],
      "metadata": {
        "colab": {
          "base_uri": "https://localhost:8080/"
        },
        "id": "t55x7uwm5RZA",
        "outputId": "a9480f8b-02ff-453e-9e08-a6fea4eeb426"
      },
      "execution_count": 43,
      "outputs": [
        {
          "output_type": "stream",
          "name": "stdout",
          "text": [
            "                                            tweet_text  \\\n",
            "268  BBC News - Moderna vaccine safe and effective,...   \n",
            "335  @glenn_resists @smartalek180 I'm an old lady. ...   \n",
            "392  @TheRealFTP The 1st one of Moderna had me cryi...   \n",
            "395  @rongallo Good For You @rongallo I’m Fully Mod...   \n",
            "524  Just got shot number 2 (Moderna). Sitting in m...   \n",
            "584  COVID decimated restaurants and bars worldwide...   \n",
            "621  Got on a #CovidVaccine waste list (vaccines le...   \n",
            "823  @kaitlancollins @caityweaver Meanwhile out her...   \n",
            "838  .@sbancel You have a responsibility to make su...   \n",
            "851  @DianeBernaerts In my particular case, I recei...   \n",
            "\n",
            "                          time coords place             tweet_id      man  \\\n",
            "268  2020-12-16 02:42:08+00:00   None  None  1339038071023517696  moderna   \n",
            "335  2021-03-29 15:21:30+00:00   None  None  1376555119710515206  moderna   \n",
            "392  2021-04-24 13:57:29+00:00   None  None  1385956059777404936  moderna   \n",
            "395  2021-08-04 17:44:56+00:00   None  None  1422976863035592708  moderna   \n",
            "524  2021-04-08 22:59:24+00:00   None  None  1380294233651838982  moderna   \n",
            "584  2021-04-22 03:59:38+00:00   None  None  1385080830062579713  moderna   \n",
            "621  2021-03-10 00:44:33+00:00   None  None  1369449060881620996  moderna   \n",
            "823  2020-12-18 23:56:00+00:00   None  None  1340083423457599488  moderna   \n",
            "838  2021-01-16 16:53:32+00:00   None  None  1350486355424456706  moderna   \n",
            "851  2021-08-22 19:33:59+00:00   None  None  1429527287205040128  moderna   \n",
            "\n",
            "                                sentiment language   datetime  sent_val  \\\n",
            "268  [[0.00146473 0.40155932 0.5969759 ]]       en 2020-12-16  0.595511   \n",
            "335  [[0.03698633 0.4383561  0.5246576 ]]       en 2021-03-29  0.487671   \n",
            "392  [[0.11769445 0.69920486 0.18310076]]       en 2021-04-24  0.065406   \n",
            "395  [[0.00904813 0.43156967 0.55938226]]       en 2021-08-04  0.550334   \n",
            "524  [[0.5013228  0.38459596 0.11408128]]       en 2021-04-08 -0.387242   \n",
            "584  [[0.03494383 0.5328926  0.43216357]]       en 2021-04-22  0.397220   \n",
            "621  [[0.05141565 0.5082066  0.44037765]]       en 2021-03-10  0.388962   \n",
            "823  [[0.80789983 0.18822294 0.00387721]]       en 2020-12-18 -0.804023   \n",
            "838  [[0.014476   0.8325562  0.15296784]]       en 2021-01-16  0.138492   \n",
            "851  [[0.4658206  0.52634865 0.00783078]]       en 2021-08-22 -0.457990   \n",
            "\n",
            "         month  \n",
            "268 2020-12-01  \n",
            "335 2021-03-01  \n",
            "392 2021-04-01  \n",
            "395 2021-08-01  \n",
            "524 2021-04-01  \n",
            "584 2021-04-01  \n",
            "621 2021-03-01  \n",
            "823 2020-12-01  \n",
            "838 2021-01-01  \n",
            "851 2021-08-01  \n"
          ]
        }
      ]
    },
    {
      "cell_type": "code",
      "source": [
        "# For each brand, get only the data of the months we're testing\n",
        "moderna_4_months_df = moderna_df.loc[moderna_df[\"month\"] == \"2020-12-01\"]\n",
        "moderna_4_months_df = moderna_4_months_df.append(moderna_df.loc[moderna_df[\"month\"] == \"2021-01-01\"])\n",
        "moderna_4_months_df = moderna_4_months_df.append(moderna_df.loc[moderna_df[\"month\"] == \"2021-02-01\"])\n",
        "moderna_4_months_df = moderna_4_months_df.append(moderna_df.loc[moderna_df[\"month\"] == \"2021-03-01\"])\n",
        "\n",
        "pfizer_4_months_df = pfizer_df.loc[pfizer_df[\"month\"] == \"2020-12-01\"]\n",
        "pfizer_4_months_df = pfizer_4_months_df.append(pfizer_df.loc[pfizer_df[\"month\"] == \"2021-01-01\"])\n",
        "pfizer_4_months_df = pfizer_4_months_df.append(pfizer_df.loc[pfizer_df[\"month\"] == \"2021-02-01\"])\n",
        "pfizer_4_months_df = pfizer_4_months_df.append(pfizer_df.loc[pfizer_df[\"month\"] == \"2021-03-01\"])\n",
        "\n",
        "astra_4_months_df = astra_df.loc[astra_df[\"month\"] == \"2020-12-01\"]\n",
        "astra_4_months_df = astra_4_months_df.append(astra_df.loc[astra_df[\"month\"] == \"2021-01-01\"])\n",
        "astra_4_months_df = astra_4_months_df.append(astra_df.loc[astra_df[\"month\"] == \"2021-02-01\"])\n",
        "astra_4_months_df = astra_4_months_df.append(astra_df.loc[astra_df[\"month\"] == \"2021-03-01\"])\n",
        "\n",
        "sputnik_4_months_df = sputnik_4_months_df = sputnik_df.loc[sputnik_df[\"month\"] == \"2020-12-01\"]\n",
        "sputnik_4_months_df = sputnik_4_months_df.append(sputnik_df.loc[sputnik_df[\"month\"] == \"2021-01-01\"])\n",
        "sputnik_4_months_df = sputnik_4_months_df.append(sputnik_df.loc[sputnik_df[\"month\"] == \"2021-02-01\"])\n",
        "sputnik_4_months_df = sputnik_4_months_df.append(sputnik_df.loc[sputnik_df[\"month\"] == \"2021-03-01\"])\n",
        "\n",
        "sino_4_months_df = sino_df.loc[sino_df[\"month\"] == \"2020-12-01\"]\n",
        "sino_4_months_df = sino_4_months_df.append(sino_df.loc[sino_df[\"month\"] == \"2021-01-01\"])\n",
        "sino_4_months_df = sino_4_months_df.append(sino_df.loc[sino_df[\"month\"] == \"2021-02-01\"])\n",
        "sino_4_months_df = sino_4_months_df.append(sino_df.loc[sino_df[\"month\"] == \"2021-03-01\"])"
      ],
      "metadata": {
        "id": "eKTlEqFA6Cqx"
      },
      "execution_count": 44,
      "outputs": []
    },
    {
      "cell_type": "code",
      "source": [
        "# For each brand, pairwise compare months"
      ],
      "metadata": {
        "id": "VR6UyaREaifl"
      },
      "execution_count": 45,
      "outputs": []
    },
    {
      "cell_type": "code",
      "source": [
        "moderna_4_months_results_df = pg.pairwise_gameshowell(data=moderna_4_months_df, dv=\"sent_val\", between=\"month\").round(3)\n",
        "print(moderna_4_months_results_df)"
      ],
      "metadata": {
        "colab": {
          "base_uri": "https://localhost:8080/"
        },
        "id": "LDk2b6AD6Sh3",
        "outputId": "6d1b8484-76b2-4d42-a57c-7ad167c38cec"
      },
      "execution_count": 87,
      "outputs": [
        {
          "output_type": "stream",
          "name": "stdout",
          "text": [
            "           A          B  mean(A)  mean(B)   diff     se      T       df  \\\n",
            "0 2020-12-01 2021-01-01    0.231    0.093  0.138  0.070  1.975  250.217   \n",
            "1 2020-12-01 2021-02-01    0.231    0.182  0.049  0.089  0.547  115.349   \n",
            "2 2020-12-01 2021-03-01    0.231    0.203  0.028  0.069  0.406  263.214   \n",
            "3 2021-01-01 2021-02-01    0.093    0.182 -0.090  0.093 -0.963  131.572   \n",
            "4 2021-01-01 2021-03-01    0.093    0.203 -0.111  0.074 -1.491  258.799   \n",
            "5 2021-02-01 2021-03-01    0.182    0.203 -0.021  0.092 -0.225  128.173   \n",
            "\n",
            "    pval  hedges  \n",
            "0  0.200   0.244  \n",
            "1  0.947   0.081  \n",
            "2  0.977   0.049  \n",
            "3  0.771  -0.144  \n",
            "4  0.444  -0.184  \n",
            "5  0.996  -0.033  \n"
          ]
        }
      ]
    },
    {
      "cell_type": "code",
      "source": [
        "pfizer_4_months_results_df = pg.pairwise_gameshowell(data=pfizer_4_months_df, dv=\"sent_val\", between=\"month\").round(3)\n",
        "print(pfizer_4_months_results_df)"
      ],
      "metadata": {
        "colab": {
          "base_uri": "https://localhost:8080/"
        },
        "id": "w6Nrsl5K7CPd",
        "outputId": "ed8cc7a9-b6b6-4c79-c7d9-7fbd33987e21"
      },
      "execution_count": 61,
      "outputs": [
        {
          "output_type": "stream",
          "name": "stdout",
          "text": [
            "           A          B  mean(A)  mean(B)   diff     se      T       df  \\\n",
            "0 2020-12-01 2021-01-01    0.019   -0.029  0.048  0.040  1.195  583.267   \n",
            "1 2020-12-01 2021-02-01    0.019    0.105 -0.086  0.047 -1.829  325.317   \n",
            "2 2020-12-01 2021-03-01    0.019    0.124 -0.105  0.039 -2.668  609.360   \n",
            "3 2021-01-01 2021-02-01   -0.029    0.105 -0.134  0.054 -2.487  444.353   \n",
            "4 2021-01-01 2021-03-01   -0.029    0.124 -0.153  0.047 -3.239  651.404   \n",
            "5 2021-02-01 2021-03-01    0.105    0.124 -0.019  0.054 -0.355  443.833   \n",
            "\n",
            "    pval  hedges  \n",
            "0  0.630   0.082  \n",
            "1  0.262  -0.145  \n",
            "2  0.039  -0.181  \n",
            "3  0.063  -0.220  \n",
            "4  0.007  -0.253  \n",
            "5  0.985  -0.031  \n"
          ]
        }
      ]
    },
    {
      "cell_type": "code",
      "source": [
        "astra_4_months_results_df = pg.pairwise_gameshowell(data=astra_4_months_df, dv=\"sent_val\", between=\"month\").round(3)\n",
        "print(astra_4_months_results_df)"
      ],
      "metadata": {
        "colab": {
          "base_uri": "https://localhost:8080/"
        },
        "id": "J2DvkMJq7g5c",
        "outputId": "1676a2ee-6621-4f22-8a9b-20416dd2eb04"
      },
      "execution_count": 62,
      "outputs": [
        {
          "output_type": "stream",
          "name": "stdout",
          "text": [
            "           A          B  mean(A)  mean(B)   diff     se      T       df  \\\n",
            "0 2020-12-01 2021-01-01    0.228    0.019  0.210  0.076  2.762  123.804   \n",
            "1 2020-12-01 2021-02-01    0.228    0.071  0.157  0.083  1.890  132.418   \n",
            "2 2020-12-01 2021-03-01    0.228   -0.023  0.251  0.068  3.685   96.148   \n",
            "3 2021-01-01 2021-02-01    0.019    0.071 -0.052  0.073 -0.716  151.743   \n",
            "4 2021-01-01 2021-03-01    0.019   -0.023  0.041  0.055  0.751  186.901   \n",
            "5 2021-02-01 2021-03-01    0.071   -0.023  0.094  0.065  1.444  123.680   \n",
            "\n",
            "    pval  hedges  \n",
            "0  0.033   0.450  \n",
            "1  0.237   0.322  \n",
            "2  0.002   0.514  \n",
            "3  0.891  -0.110  \n",
            "4  0.876   0.089  \n",
            "5  0.475   0.185  \n"
          ]
        }
      ]
    },
    {
      "cell_type": "code",
      "source": [
        "sputnik_4_months_results_df = pg.pairwise_gameshowell(data=sputnik_4_months_df, dv=\"sent_val\", between=\"month\").round(3)\n",
        "print(sputnik_4_months_results_df)"
      ],
      "metadata": {
        "colab": {
          "base_uri": "https://localhost:8080/"
        },
        "id": "sCMWoGxI7jYA",
        "outputId": "002721b0-1c0c-472b-d76d-3f579ac49a26"
      },
      "execution_count": 63,
      "outputs": [
        {
          "output_type": "stream",
          "name": "stdout",
          "text": [
            "           A          B  mean(A)  mean(B)   diff     se      T      df   pval  \\\n",
            "0 2020-12-01 2021-01-01    0.071   -0.380  0.451  0.237  1.905  15.919  0.265   \n",
            "1 2020-12-01 2021-02-01    0.071    0.102 -0.032  0.220 -0.144  17.498  0.999   \n",
            "2 2020-12-01 2021-03-01    0.071   -0.208  0.279  0.214  1.301  15.812  0.576   \n",
            "3 2021-01-01 2021-02-01   -0.380    0.102 -0.482  0.194 -2.487  17.093  0.098   \n",
            "4 2021-01-01 2021-03-01   -0.380   -0.208 -0.172  0.187 -0.921  15.050  0.794   \n",
            "5 2021-02-01 2021-03-01    0.102   -0.208  0.310  0.166  1.871  40.000  0.257   \n",
            "\n",
            "   hedges  \n",
            "0   0.860  \n",
            "1  -0.053  \n",
            "2   0.494  \n",
            "3  -0.994  \n",
            "4  -0.377  \n",
            "5   0.569  \n"
          ]
        }
      ]
    },
    {
      "cell_type": "code",
      "source": [
        "sino_4_months_results_df = pg.pairwise_gameshowell(data=sino_4_months_df, dv=\"sent_val\", between=\"month\").round(3)\n",
        "print(sino_4_months_results_df)"
      ],
      "metadata": {
        "colab": {
          "base_uri": "https://localhost:8080/"
        },
        "id": "MksaROj27lDL",
        "outputId": "43c8affe-c86f-4df3-b5dd-a19a009a842c"
      },
      "execution_count": 138,
      "outputs": [
        {
          "output_type": "stream",
          "name": "stdout",
          "text": [
            "           A          B  mean(A)  mean(B)   diff     se      T      df   pval  \\\n",
            "0 2020-12-01 2021-01-01    0.052   -0.176  0.228  0.144  1.581  32.078  0.403   \n",
            "1 2020-12-01 2021-02-01    0.052    0.052 -0.000  0.138 -0.003  28.517  1.000   \n",
            "2 2020-12-01 2021-03-01    0.052    0.136 -0.084  0.158 -0.534  36.316  0.950   \n",
            "3 2021-01-01 2021-02-01   -0.176    0.052 -0.228  0.122 -1.866  39.990  0.259   \n",
            "4 2021-01-01 2021-03-01   -0.176    0.136 -0.312  0.144 -2.166  43.688  0.149   \n",
            "5 2021-02-01 2021-03-01    0.052    0.136 -0.084  0.138 -0.607  39.666  0.929   \n",
            "\n",
            "   hedges  \n",
            "0   0.504  \n",
            "1  -0.001  \n",
            "2  -0.169  \n",
            "3  -0.567  \n",
            "4  -0.621  \n",
            "5  -0.183  \n"
          ]
        }
      ]
    },
    {
      "cell_type": "code",
      "source": [
        "# Get a dataframe for each month, containing daily data for all brands\n",
        "all_dec_arr = [moderna_4_months_df.loc[moderna_4_months_df[\"month\"] == \"2020-12-01\"], pfizer_4_months_df.loc[pfizer_4_months_df[\"month\"] == \"2020-12-01\"],\n",
        "                      astra_4_months_df.loc[astra_4_months_df[\"month\"] == \"2020-12-01\"], sputnik_4_months_df.loc[sputnik_4_months_df[\"month\"] == \"2020-12-01\"],\n",
        "                      sino_4_months_df.loc[sino_4_months_df[\"month\"] == \"2020-12-01\"]]\n",
        "\n",
        "all_dec_df = pd.concat(all_dec_arr)\n",
        "\n",
        "all_jan_arr = [moderna_4_months_df.loc[moderna_4_months_df[\"month\"] == \"2021-01-01\"], pfizer_4_months_df.loc[pfizer_4_months_df[\"month\"] == \"2021-01-01\"],\n",
        "                      astra_4_months_df.loc[astra_4_months_df[\"month\"] == \"2021-01-01\"], sputnik_4_months_df.loc[sputnik_4_months_df[\"month\"] == \"2021-01-01\"],\n",
        "                      sino_4_months_df.loc[sino_4_months_df[\"month\"] == \"2021-01-01\"]]\n",
        "\n",
        "all_jan_df = pd.concat(all_jan_arr)\n",
        "\n",
        "all_feb_arr = [moderna_4_months_df.loc[moderna_4_months_df[\"month\"] == \"2021-02-01 \t\"], pfizer_4_months_df.loc[pfizer_4_months_df[\"month\"] == \"2021-02-01 \t\"],\n",
        "                      astra_4_months_df.loc[astra_4_months_df[\"month\"] == \"2021-02-01 \t\"], sputnik_4_months_df.loc[sputnik_4_months_df[\"month\"] == \"2021-02-01 \t\"],\n",
        "                      sino_4_months_df.loc[sino_4_months_df[\"month\"] == \"2021-02-01 \t\"]]\n",
        "\n",
        "all_feb_df = pd.concat(all_feb_arr)\n",
        "\n",
        "all_mar_arr = [moderna_4_months_df.loc[moderna_4_months_df[\"month\"] == \"2021-03-01\"], pfizer_4_months_df.loc[pfizer_4_months_df[\"month\"] == \"2021-03-01\"],\n",
        "                      astra_4_months_df.loc[astra_4_months_df[\"month\"] == \"2021-03-01\"], sputnik_4_months_df.loc[sputnik_4_months_df[\"month\"] == \"2021-03-01\"],\n",
        "                      sino_4_months_df.loc[sino_4_months_df[\"month\"] == \"2021-03-01\"]]\n",
        "\n",
        "all_mar_df = pd.concat(all_mar_arr)"
      ],
      "metadata": {
        "id": "6gmoO8dt7ngM"
      },
      "execution_count": 51,
      "outputs": []
    },
    {
      "cell_type": "code",
      "source": [
        "# For each month, pairwise compare brands"
      ],
      "metadata": {
        "id": "PcNBVfh1arQL"
      },
      "execution_count": 52,
      "outputs": []
    },
    {
      "cell_type": "code",
      "source": [
        "all_dec_results_df = pg.pairwise_gameshowell(data=all_dec_df, dv=\"sent_val\", between=\"man\").round(3)\n",
        "print(all_dec_results_df)"
      ],
      "metadata": {
        "colab": {
          "base_uri": "https://localhost:8080/"
        },
        "id": "Kea4ZkTzYs_p",
        "outputId": "42e01bfe-2ac0-4ed9-fc8b-b28001535263"
      },
      "execution_count": 65,
      "outputs": [
        {
          "output_type": "stream",
          "name": "stdout",
          "text": [
            "         A        B  mean(A)  mean(B)   diff     se      T       df   pval  \\\n",
            "0    astra  moderna    0.228    0.231 -0.003  0.076 -0.034  129.957  1.000   \n",
            "1    astra   pfizer    0.228    0.019  0.209  0.064  3.261   77.025  0.014   \n",
            "2    astra     sino    0.228    0.052  0.176  0.127  1.391   24.639  0.639   \n",
            "3    astra  sputnik    0.228    0.071  0.158  0.193  0.819   11.062  0.919   \n",
            "4  moderna   pfizer    0.231    0.019  0.212  0.050  4.225  196.472  0.000   \n",
            "5  moderna     sino    0.231    0.052  0.179  0.120  1.487   20.325  0.582   \n",
            "6  moderna  sputnik    0.231    0.071  0.160  0.189  0.851   10.140  0.908   \n",
            "7   pfizer     sino    0.019    0.052 -0.033  0.113 -0.291   16.123  0.998   \n",
            "8   pfizer  sputnik    0.019    0.071 -0.052  0.184 -0.281    9.247  0.998   \n",
            "9     sino  sputnik    0.052    0.071 -0.019  0.214 -0.087   15.629  1.000   \n",
            "\n",
            "   hedges  \n",
            "0  -0.005  \n",
            "1   0.434  \n",
            "2   0.386  \n",
            "3   0.276  \n",
            "4   0.402  \n",
            "5   0.391  \n",
            "6   0.277  \n",
            "7  -0.074  \n",
            "8  -0.089  \n",
            "9  -0.034  \n"
          ]
        }
      ]
    },
    {
      "cell_type": "code",
      "source": [
        "all_jan_results_df = pg.pairwise_gameshowell(data=all_jan_df, dv=\"sent_val\", between=\"man\").round(3)\n",
        "print(all_jan_results_df)"
      ],
      "metadata": {
        "colab": {
          "base_uri": "https://localhost:8080/"
        },
        "id": "_xMTl8ZVY1g9",
        "outputId": "b6a34420-e6c9-4345-be87-8b43ade0dabb"
      },
      "execution_count": 66,
      "outputs": [
        {
          "output_type": "stream",
          "name": "stdout",
          "text": [
            "         A        B  mean(A)  mean(B)   diff     se      T       df   pval  \\\n",
            "0    astra  moderna    0.019    0.093 -0.074  0.070 -1.050  218.997  0.832   \n",
            "1    astra   pfizer    0.019   -0.029  0.047  0.057  0.838  203.273  0.918   \n",
            "2    astra     sino    0.019   -0.176  0.195  0.102  1.907   33.842  0.333   \n",
            "3    astra  sputnik    0.019   -0.380  0.399  0.157  2.543    8.351  0.169   \n",
            "4  moderna   pfizer    0.093   -0.029  0.121  0.063  1.923  231.076  0.308   \n",
            "5  moderna     sino    0.093   -0.176  0.269  0.106  2.538   38.748  0.103   \n",
            "6  moderna  sputnik    0.093   -0.380  0.473  0.159  2.968    8.874  0.090   \n",
            "7   pfizer     sino   -0.029   -0.176  0.147  0.097  1.514   28.285  0.562   \n",
            "8   pfizer  sputnik   -0.029   -0.380  0.351  0.154  2.286    7.717  0.245   \n",
            "9     sino  sputnik   -0.176   -0.380  0.204  0.176  1.161   12.610  0.772   \n",
            "\n",
            "   hedges  \n",
            "0  -0.142  \n",
            "1   0.098  \n",
            "2   0.441  \n",
            "3   0.930  \n",
            "4   0.201  \n",
            "5   0.572  \n",
            "6   1.076  \n",
            "7   0.326  \n",
            "8   0.816  \n",
            "9   0.464  \n"
          ]
        }
      ]
    },
    {
      "cell_type": "code",
      "source": [
        "all_feb_results_df = pg.pairwise_gameshowell(data=all_feb_df, dv=\"sent_val\", between=\"man\").round(3)\n",
        "print(all_feb_results_df)"
      ],
      "metadata": {
        "colab": {
          "base_uri": "https://localhost:8080/"
        },
        "id": "wWYCACbPZX3Z",
        "outputId": "5decac4a-9051-444f-ee59-366dc17be006"
      },
      "execution_count": 68,
      "outputs": [
        {
          "output_type": "stream",
          "name": "stdout",
          "text": [
            "         A        B  mean(A)  mean(B)   diff     se      T       df   pval  \\\n",
            "0    astra  moderna    0.071    0.182 -0.111  0.095 -1.166  127.111  0.771   \n",
            "1    astra   pfizer    0.071    0.105 -0.034  0.071 -0.480  161.684  0.989   \n",
            "2    astra     sino    0.071    0.052  0.019  0.099  0.189   37.783  1.000   \n",
            "3    astra  sputnik    0.071    0.102 -0.031  0.135 -0.229   32.049  0.999   \n",
            "4  moderna   pfizer    0.182    0.105  0.077  0.087  0.884  110.423  0.902   \n",
            "5  moderna     sino    0.182    0.052  0.130  0.112  1.163   52.708  0.772   \n",
            "6  moderna  sputnik    0.182    0.102  0.080  0.145  0.553   40.336  0.981   \n",
            "7   pfizer     sino    0.105    0.052  0.053  0.092  0.576   28.697  0.978   \n",
            "8   pfizer  sputnik    0.105    0.102  0.003  0.130  0.022   27.410  1.000   \n",
            "9     sino  sputnik    0.052    0.102 -0.050  0.147 -0.338   36.872  0.997   \n",
            "\n",
            "   hedges  \n",
            "0  -0.194  \n",
            "1  -0.064  \n",
            "2   0.048  \n",
            "3  -0.054  \n",
            "4   0.123  \n",
            "5   0.299  \n",
            "6   0.132  \n",
            "7   0.138  \n",
            "8   0.005  \n",
            "9  -0.103  \n"
          ]
        }
      ]
    },
    {
      "cell_type": "code",
      "source": [
        "all_mar_results_df = pg.pairwise_gameshowell(data=all_mar_df, dv=\"sent_val\", between=\"man\").round(3)\n",
        "print(all_mar_results_df)"
      ],
      "metadata": {
        "colab": {
          "base_uri": "https://localhost:8080/"
        },
        "id": "9XfCAP6VZZI5",
        "outputId": "c51891de-df59-4edb-801d-afc4688a4634"
      },
      "execution_count": 69,
      "outputs": [
        {
          "output_type": "stream",
          "name": "stdout",
          "text": [
            "         A        B  mean(A)  mean(B)   diff     se      T       df   pval  \\\n",
            "0    astra  moderna   -0.023    0.203 -0.226  0.060 -3.755  235.986  0.002   \n",
            "1    astra   pfizer   -0.023    0.124 -0.147  0.045 -3.226  625.000  0.011   \n",
            "2    astra     sino   -0.023    0.136 -0.159  0.116 -1.372   26.722  0.650   \n",
            "3    astra  sputnik   -0.023   -0.208  0.185  0.116  1.603   20.923  0.512   \n",
            "4  moderna   pfizer    0.203    0.124  0.079  0.061  1.290  251.124  0.697   \n",
            "5  moderna     sino    0.203    0.136  0.067  0.123  0.545   33.561  0.982   \n",
            "6  moderna  sputnik    0.203   -0.208  0.411  0.123  3.353   26.335  0.019   \n",
            "7   pfizer     sino    0.124    0.136 -0.012  0.116 -0.103   27.234  1.000   \n",
            "8   pfizer  sputnik    0.124   -0.208  0.332  0.116  2.860   21.326  0.063   \n",
            "9     sino  sputnik    0.136   -0.208  0.344  0.158  2.184   40.404  0.206   \n",
            "\n",
            "   hedges  \n",
            "0  -0.390  \n",
            "1  -0.258  \n",
            "2  -0.291  \n",
            "3   0.379  \n",
            "4   0.131  \n",
            "5   0.120  \n",
            "6   0.817  \n",
            "7  -0.022  \n",
            "8   0.673  \n",
            "9   0.658  \n"
          ]
        }
      ]
    },
    {
      "cell_type": "code",
      "source": [
        "# Print output in latex table form\n",
        "def latex_print(gh_result_df):\n",
        "  for index, row in gh_result_df.iterrows():\n",
        "    if(isinstance(row[\"A\"], datetime)):\n",
        "      line_str = row[\"A\"].month_name()[0:3] + \" \" + str(row[\"A\"].year) + \" & \" + row[\"B\"].month_name()[0:3] + \" \" + str(row[\"B\"].year) + \" & \" + str(row[\"diff\"]) + \" & \" + str(row[\"pval\"]) + \"\\n \\\\\\\\ \\n \\\\hline\"\n",
        "    else:\n",
        "      line_str = row[\"A\"] + \" & \" + row[\"B\"] + \" & \" + str(row[\"diff\"]) + \" & \" + str(row[\"pval\"]) + \"\\n \\\\\\\\ \\n \\\\hline\"\n",
        "    print(line_str)"
      ],
      "metadata": {
        "id": "Rk7Jvlw3Zah3"
      },
      "execution_count": 132,
      "outputs": []
    },
    {
      "cell_type": "code",
      "source": [
        "latex_print(full_range_all_results_df)"
      ],
      "metadata": {
        "colab": {
          "base_uri": "https://localhost:8080/"
        },
        "id": "-K14MFgVHCZL",
        "outputId": "423ee648-d537-4f7a-d9d8-a4c404d33234"
      },
      "execution_count": 126,
      "outputs": [
        {
          "output_type": "stream",
          "name": "stdout",
          "text": [
            "astra & moderna & -0.078 & 0.105\n",
            " \\\\ \n",
            " hline\n",
            "astra & pfizer & 0.014 & 0.98\n",
            " \\\\ \n",
            " hline\n",
            "astra & sino & 0.035 & 0.932\n",
            " \\\\ \n",
            " hline\n",
            "astra & sputnik & 0.136 & 0.024\n",
            " \\\\ \n",
            " hline\n",
            "moderna & pfizer & 0.092 & 0.01\n",
            " \\\\ \n",
            " hline\n",
            "moderna & sino & 0.113 & 0.1\n",
            " \\\\ \n",
            " hline\n",
            "moderna & sputnik & 0.214 & 0.0\n",
            " \\\\ \n",
            " hline\n",
            "pfizer & sino & 0.021 & 0.987\n",
            " \\\\ \n",
            " hline\n",
            "pfizer & sputnik & 0.122 & 0.038\n",
            " \\\\ \n",
            " hline\n",
            "sino & sputnik & 0.101 & 0.369\n",
            " \\\\ \n",
            " hline\n"
          ]
        }
      ]
    },
    {
      "cell_type": "code",
      "source": [
        "latex_print(moderna_4_months_results_df)"
      ],
      "metadata": {
        "colab": {
          "base_uri": "https://localhost:8080/"
        },
        "id": "ljYC2H52HI7D",
        "outputId": "62ea9225-246a-4390-fcd5-0d36a1b9013f"
      },
      "execution_count": 133,
      "outputs": [
        {
          "output_type": "stream",
          "name": "stdout",
          "text": [
            "Dec 2020 & Jan 2021 & 0.138 & 0.2\n",
            " \\\\ \n",
            " \\hline\n",
            "Dec 2020 & Feb 2021 & 0.049 & 0.947\n",
            " \\\\ \n",
            " \\hline\n",
            "Dec 2020 & Mar 2021 & 0.028 & 0.977\n",
            " \\\\ \n",
            " \\hline\n",
            "Jan 2021 & Feb 2021 & -0.09 & 0.771\n",
            " \\\\ \n",
            " \\hline\n",
            "Jan 2021 & Mar 2021 & -0.111 & 0.444\n",
            " \\\\ \n",
            " \\hline\n",
            "Feb 2021 & Mar 2021 & -0.021 & 0.996\n",
            " \\\\ \n",
            " \\hline\n"
          ]
        }
      ]
    },
    {
      "cell_type": "code",
      "source": [
        "latex_print(pfizer_4_months_results_df)"
      ],
      "metadata": {
        "colab": {
          "base_uri": "https://localhost:8080/"
        },
        "id": "22t2EYUOIOTg",
        "outputId": "24802f74-7081-4742-a9b3-d813a72ef17a"
      },
      "execution_count": 134,
      "outputs": [
        {
          "output_type": "stream",
          "name": "stdout",
          "text": [
            "Dec 2020 & Jan 2021 & 0.048 & 0.63\n",
            " \\\\ \n",
            " \\hline\n",
            "Dec 2020 & Feb 2021 & -0.086 & 0.262\n",
            " \\\\ \n",
            " \\hline\n",
            "Dec 2020 & Mar 2021 & -0.105 & 0.039\n",
            " \\\\ \n",
            " \\hline\n",
            "Jan 2021 & Feb 2021 & -0.134 & 0.063\n",
            " \\\\ \n",
            " \\hline\n",
            "Jan 2021 & Mar 2021 & -0.153 & 0.007\n",
            " \\\\ \n",
            " \\hline\n",
            "Feb 2021 & Mar 2021 & -0.019 & 0.985\n",
            " \\\\ \n",
            " \\hline\n"
          ]
        }
      ]
    },
    {
      "cell_type": "code",
      "source": [
        "latex_print(pfizer_4_months_results_df)"
      ],
      "metadata": {
        "colab": {
          "base_uri": "https://localhost:8080/"
        },
        "id": "uAk_s9wJKCr3",
        "outputId": "afeaec21-2e1b-4796-84ce-f7ea19a57c43"
      },
      "execution_count": 135,
      "outputs": [
        {
          "output_type": "stream",
          "name": "stdout",
          "text": [
            "Dec 2020 & Jan 2021 & 0.048 & 0.63\n",
            " \\\\ \n",
            " \\hline\n",
            "Dec 2020 & Feb 2021 & -0.086 & 0.262\n",
            " \\\\ \n",
            " \\hline\n",
            "Dec 2020 & Mar 2021 & -0.105 & 0.039\n",
            " \\\\ \n",
            " \\hline\n",
            "Jan 2021 & Feb 2021 & -0.134 & 0.063\n",
            " \\\\ \n",
            " \\hline\n",
            "Jan 2021 & Mar 2021 & -0.153 & 0.007\n",
            " \\\\ \n",
            " \\hline\n",
            "Feb 2021 & Mar 2021 & -0.019 & 0.985\n",
            " \\\\ \n",
            " \\hline\n"
          ]
        }
      ]
    },
    {
      "cell_type": "code",
      "source": [
        "latex_print(sputnik_4_months_results_df)"
      ],
      "metadata": {
        "colab": {
          "base_uri": "https://localhost:8080/"
        },
        "id": "blKEaQ3oKerj",
        "outputId": "d59e69fb-f390-43fb-e70d-6c5410c8f250"
      },
      "execution_count": 136,
      "outputs": [
        {
          "output_type": "stream",
          "name": "stdout",
          "text": [
            "Dec 2020 & Jan 2021 & 0.451 & 0.265\n",
            " \\\\ \n",
            " \\hline\n",
            "Dec 2020 & Feb 2021 & -0.032 & 0.999\n",
            " \\\\ \n",
            " \\hline\n",
            "Dec 2020 & Mar 2021 & 0.279 & 0.576\n",
            " \\\\ \n",
            " \\hline\n",
            "Jan 2021 & Feb 2021 & -0.482 & 0.098\n",
            " \\\\ \n",
            " \\hline\n",
            "Jan 2021 & Mar 2021 & -0.172 & 0.794\n",
            " \\\\ \n",
            " \\hline\n",
            "Feb 2021 & Mar 2021 & 0.31 & 0.257\n",
            " \\\\ \n",
            " \\hline\n"
          ]
        }
      ]
    },
    {
      "cell_type": "code",
      "source": [
        "latex_print(sino_4_months_results_df)"
      ],
      "metadata": {
        "colab": {
          "base_uri": "https://localhost:8080/"
        },
        "id": "RsI7ABu0Kg-4",
        "outputId": "8c6d8a77-8d96-429e-9e60-e85d4ef80348"
      },
      "execution_count": 137,
      "outputs": [
        {
          "output_type": "stream",
          "name": "stdout",
          "text": [
            "Dec 2020 & Jan 2021 & 0.228 & 0.403\n",
            " \\\\ \n",
            " \\hline\n",
            "Dec 2020 & Feb 2021 & -0.0 & 1.0\n",
            " \\\\ \n",
            " \\hline\n",
            "Dec 2020 & Mar 2021 & -0.084 & 0.95\n",
            " \\\\ \n",
            " \\hline\n",
            "Jan 2021 & Feb 2021 & -0.228 & 0.259\n",
            " \\\\ \n",
            " \\hline\n",
            "Jan 2021 & Mar 2021 & -0.312 & 0.149\n",
            " \\\\ \n",
            " \\hline\n",
            "Feb 2021 & Mar 2021 & -0.084 & 0.929\n",
            " \\\\ \n",
            " \\hline\n"
          ]
        }
      ]
    },
    {
      "cell_type": "code",
      "source": [
        "latex_print(all_dec_results_df)"
      ],
      "metadata": {
        "colab": {
          "base_uri": "https://localhost:8080/"
        },
        "id": "9659MckuKiZG",
        "outputId": "b2e4f50f-f119-49d8-96bb-802acdf9e4d7"
      },
      "execution_count": 139,
      "outputs": [
        {
          "output_type": "stream",
          "name": "stdout",
          "text": [
            "astra & moderna & -0.003 & 1.0\n",
            " \\\\ \n",
            " \\hline\n",
            "astra & pfizer & 0.209 & 0.014\n",
            " \\\\ \n",
            " \\hline\n",
            "astra & sino & 0.176 & 0.639\n",
            " \\\\ \n",
            " \\hline\n",
            "astra & sputnik & 0.158 & 0.919\n",
            " \\\\ \n",
            " \\hline\n",
            "moderna & pfizer & 0.212 & 0.0\n",
            " \\\\ \n",
            " \\hline\n",
            "moderna & sino & 0.179 & 0.582\n",
            " \\\\ \n",
            " \\hline\n",
            "moderna & sputnik & 0.16 & 0.908\n",
            " \\\\ \n",
            " \\hline\n",
            "pfizer & sino & -0.033 & 0.998\n",
            " \\\\ \n",
            " \\hline\n",
            "pfizer & sputnik & -0.052 & 0.998\n",
            " \\\\ \n",
            " \\hline\n",
            "sino & sputnik & -0.019 & 1.0\n",
            " \\\\ \n",
            " \\hline\n"
          ]
        }
      ]
    },
    {
      "cell_type": "code",
      "source": [
        "latex_print(all_jan_results_df)"
      ],
      "metadata": {
        "colab": {
          "base_uri": "https://localhost:8080/"
        },
        "id": "vRCrmxkFKqYx",
        "outputId": "ee4390b1-a76a-422b-b3e9-2dfad9b7087d"
      },
      "execution_count": 140,
      "outputs": [
        {
          "output_type": "stream",
          "name": "stdout",
          "text": [
            "astra & moderna & -0.074 & 0.832\n",
            " \\\\ \n",
            " \\hline\n",
            "astra & pfizer & 0.047 & 0.918\n",
            " \\\\ \n",
            " \\hline\n",
            "astra & sino & 0.195 & 0.333\n",
            " \\\\ \n",
            " \\hline\n",
            "astra & sputnik & 0.399 & 0.169\n",
            " \\\\ \n",
            " \\hline\n",
            "moderna & pfizer & 0.121 & 0.308\n",
            " \\\\ \n",
            " \\hline\n",
            "moderna & sino & 0.269 & 0.103\n",
            " \\\\ \n",
            " \\hline\n",
            "moderna & sputnik & 0.473 & 0.09\n",
            " \\\\ \n",
            " \\hline\n",
            "pfizer & sino & 0.147 & 0.562\n",
            " \\\\ \n",
            " \\hline\n",
            "pfizer & sputnik & 0.351 & 0.245\n",
            " \\\\ \n",
            " \\hline\n",
            "sino & sputnik & 0.204 & 0.772\n",
            " \\\\ \n",
            " \\hline\n"
          ]
        }
      ]
    },
    {
      "cell_type": "code",
      "source": [
        "latex_print(all_feb_results_df)"
      ],
      "metadata": {
        "colab": {
          "base_uri": "https://localhost:8080/"
        },
        "id": "i1nOLrZJKsXC",
        "outputId": "3feecf8a-e351-421c-a013-edc4bc92f815"
      },
      "execution_count": 141,
      "outputs": [
        {
          "output_type": "stream",
          "name": "stdout",
          "text": [
            "astra & moderna & -0.111 & 0.771\n",
            " \\\\ \n",
            " \\hline\n",
            "astra & pfizer & -0.034 & 0.989\n",
            " \\\\ \n",
            " \\hline\n",
            "astra & sino & 0.019 & 1.0\n",
            " \\\\ \n",
            " \\hline\n",
            "astra & sputnik & -0.031 & 0.999\n",
            " \\\\ \n",
            " \\hline\n",
            "moderna & pfizer & 0.077 & 0.902\n",
            " \\\\ \n",
            " \\hline\n",
            "moderna & sino & 0.13 & 0.772\n",
            " \\\\ \n",
            " \\hline\n",
            "moderna & sputnik & 0.08 & 0.981\n",
            " \\\\ \n",
            " \\hline\n",
            "pfizer & sino & 0.053 & 0.978\n",
            " \\\\ \n",
            " \\hline\n",
            "pfizer & sputnik & 0.003 & 1.0\n",
            " \\\\ \n",
            " \\hline\n",
            "sino & sputnik & -0.05 & 0.997\n",
            " \\\\ \n",
            " \\hline\n"
          ]
        }
      ]
    },
    {
      "cell_type": "code",
      "source": [
        "latex_print(all_mar_results_df)"
      ],
      "metadata": {
        "colab": {
          "base_uri": "https://localhost:8080/"
        },
        "id": "61wdVupLKtSI",
        "outputId": "18b65dcf-4804-493f-f870-50c747e0e3b2"
      },
      "execution_count": 142,
      "outputs": [
        {
          "output_type": "stream",
          "name": "stdout",
          "text": [
            "astra & moderna & -0.226 & 0.002\n",
            " \\\\ \n",
            " \\hline\n",
            "astra & pfizer & -0.147 & 0.011\n",
            " \\\\ \n",
            " \\hline\n",
            "astra & sino & -0.159 & 0.65\n",
            " \\\\ \n",
            " \\hline\n",
            "astra & sputnik & 0.185 & 0.512\n",
            " \\\\ \n",
            " \\hline\n",
            "moderna & pfizer & 0.079 & 0.697\n",
            " \\\\ \n",
            " \\hline\n",
            "moderna & sino & 0.067 & 0.982\n",
            " \\\\ \n",
            " \\hline\n",
            "moderna & sputnik & 0.411 & 0.019\n",
            " \\\\ \n",
            " \\hline\n",
            "pfizer & sino & -0.012 & 1.0\n",
            " \\\\ \n",
            " \\hline\n",
            "pfizer & sputnik & 0.332 & 0.063\n",
            " \\\\ \n",
            " \\hline\n",
            "sino & sputnik & 0.344 & 0.206\n",
            " \\\\ \n",
            " \\hline\n"
          ]
        }
      ]
    },
    {
      "cell_type": "code",
      "source": [],
      "metadata": {
        "id": "o6sFAH4IKuk5"
      },
      "execution_count": null,
      "outputs": []
    }
  ]
}